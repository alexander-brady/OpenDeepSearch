{
 "cells": [
  {
   "cell_type": "code",
   "execution_count": 3,
   "id": "26b565a9",
   "metadata": {},
   "outputs": [],
   "source": [
    "\n",
    "import json\n",
    "import pandas as pd"
   ]
  },
  {
   "cell_type": "code",
   "execution_count": 4,
   "id": "a5ab5ca5",
   "metadata": {},
   "outputs": [],
   "source": [
    "data = pd.read_json(\"output/fireworks_ai__accounts__fireworks__models__qwq-32b/codeact/frames_test_set/fireworks_ai__accounts__fireworks__models__qwq-32b__codeact__frames_test_set__trial0.jsonl\", lines=True)\n",
    "data = data[['original_question', 'answer', 'true_answer', 'final_grade']]"
   ]
  },
  {
   "cell_type": "code",
   "execution_count": 8,
   "id": "1356f0ba",
   "metadata": {},
   "outputs": [
    {
     "data": {
      "text/plain": [
       "final_grade\n",
       "A    0.551597\n",
       "B    0.407862\n",
       "C    0.040541\n",
       "Name: proportion, dtype: float64"
      ]
     },
     "execution_count": 8,
     "metadata": {},
     "output_type": "execute_result"
    }
   ],
   "source": [
    "data['final_grade'].value_counts(normalize=True)"
   ]
  },
  {
   "cell_type": "code",
   "execution_count": 6,
   "id": "be5c2d5f",
   "metadata": {},
   "outputs": [],
   "source": [
    "wrong_answer_df = data[(data['final_grade']!= 'A\\n')]"
   ]
  },
  {
   "cell_type": "code",
   "execution_count": null,
   "id": "b5de25af",
   "metadata": {},
   "outputs": [
    {
     "data": {
      "text/html": [
       "<div>\n",
       "<style scoped>\n",
       "    .dataframe tbody tr th:only-of-type {\n",
       "        vertical-align: middle;\n",
       "    }\n",
       "\n",
       "    .dataframe tbody tr th {\n",
       "        vertical-align: top;\n",
       "    }\n",
       "\n",
       "    .dataframe thead th {\n",
       "        text-align: right;\n",
       "    }\n",
       "</style>\n",
       "<table border=\"1\" class=\"dataframe\">\n",
       "  <thead>\n",
       "    <tr style=\"text-align: right;\">\n",
       "      <th></th>\n",
       "      <th>original_question</th>\n",
       "      <th>answer</th>\n",
       "      <th>true_answer</th>\n",
       "      <th>final_grade</th>\n",
       "    </tr>\n",
       "  </thead>\n",
       "  <tbody>\n",
       "    <tr>\n",
       "      <th>0</th>\n",
       "      <td>The Pope born Pietro Barbo ended a long-runnin...</td>\n",
       "      <td>Norman Conquest</td>\n",
       "      <td>The Battle of Hastings.</td>\n",
       "      <td>A</td>\n",
       "    </tr>\n",
       "    <tr>\n",
       "      <th>1</th>\n",
       "      <td>One of Barbara Kingsolver's best known novels ...</td>\n",
       "      <td>1960</td>\n",
       "      <td>1960</td>\n",
       "      <td>A</td>\n",
       "    </tr>\n",
       "    <tr>\n",
       "      <th>2</th>\n",
       "      <td>An Australian artist, born the same year as ar...</td>\n",
       "      <td>Reve d'Or</td>\n",
       "      <td>Reve d'Or</td>\n",
       "      <td>A</td>\n",
       "    </tr>\n",
       "    <tr>\n",
       "      <th>3</th>\n",
       "      <td>Which football player got 15 or more assists i...</td>\n",
       "      <td>Mesut Özil</td>\n",
       "      <td>This was Mesut Ozil.</td>\n",
       "      <td>A</td>\n",
       "    </tr>\n",
       "    <tr>\n",
       "      <th>4</th>\n",
       "      <td>A general motors vehicle is named after the la...</td>\n",
       "      <td>6</td>\n",
       "      <td>4</td>\n",
       "      <td>B</td>\n",
       "    </tr>\n",
       "    <tr>\n",
       "      <th>...</th>\n",
       "      <td>...</td>\n",
       "      <td>...</td>\n",
       "      <td>...</td>\n",
       "      <td>...</td>\n",
       "    </tr>\n",
       "    <tr>\n",
       "      <th>809</th>\n",
       "      <td>Which movie musical produced a song that was i...</td>\n",
       "      <td>Hair</td>\n",
       "      <td>Fame</td>\n",
       "      <td>B</td>\n",
       "    </tr>\n",
       "    <tr>\n",
       "      <th>810</th>\n",
       "      <td>This singer represented Sweden in Eurovision f...</td>\n",
       "      <td>Aquarius</td>\n",
       "      <td>Aquarius</td>\n",
       "      <td>A</td>\n",
       "    </tr>\n",
       "    <tr>\n",
       "      <th>811</th>\n",
       "      <td>According to topographical summit prominence, ...</td>\n",
       "      <td>9</td>\n",
       "      <td>35 years.</td>\n",
       "      <td>B</td>\n",
       "    </tr>\n",
       "    <tr>\n",
       "      <th>812</th>\n",
       "      <td>Diago Costa played for which club when he was ...</td>\n",
       "      <td>Atlético Madrid</td>\n",
       "      <td>Atlético Madrid</td>\n",
       "      <td>A</td>\n",
       "    </tr>\n",
       "    <tr>\n",
       "      <th>813</th>\n",
       "      <td>A 2002 science fiction novel by an American au...</td>\n",
       "      <td>The Takeshi Kovacs Trilogy</td>\n",
       "      <td>The Sea of Trolls trilogy</td>\n",
       "      <td>B</td>\n",
       "    </tr>\n",
       "  </tbody>\n",
       "</table>\n",
       "<p>814 rows × 4 columns</p>\n",
       "</div>"
      ],
      "text/plain": [
       "                                     original_question  \\\n",
       "0    The Pope born Pietro Barbo ended a long-runnin...   \n",
       "1    One of Barbara Kingsolver's best known novels ...   \n",
       "2    An Australian artist, born the same year as ar...   \n",
       "3    Which football player got 15 or more assists i...   \n",
       "4    A general motors vehicle is named after the la...   \n",
       "..                                                 ...   \n",
       "809  Which movie musical produced a song that was i...   \n",
       "810  This singer represented Sweden in Eurovision f...   \n",
       "811  According to topographical summit prominence, ...   \n",
       "812  Diago Costa played for which club when he was ...   \n",
       "813  A 2002 science fiction novel by an American au...   \n",
       "\n",
       "                         answer                true_answer final_grade  \n",
       "0               Norman Conquest    The Battle of Hastings.           A  \n",
       "1                          1960                       1960           A  \n",
       "2                     Reve d'Or                  Reve d'Or           A  \n",
       "3                    Mesut Özil       This was Mesut Ozil.           A  \n",
       "4                             6                          4           B  \n",
       "..                          ...                        ...         ...  \n",
       "809                        Hair                       Fame           B  \n",
       "810                    Aquarius                   Aquarius           A  \n",
       "811                           9                  35 years.           B  \n",
       "812             Atlético Madrid            Atlético Madrid           A  \n",
       "813  The Takeshi Kovacs Trilogy  The Sea of Trolls trilogy           B  \n",
       "\n",
       "[814 rows x 4 columns]"
      ]
     },
     "execution_count": 7,
     "metadata": {},
     "output_type": "execute_result"
    }
   ],
   "source": [
    "wrong_answer_df."
   ]
  },
  {
   "cell_type": "code",
   "execution_count": 13,
   "id": "4643b879",
   "metadata": {},
   "outputs": [],
   "source": [
    "wrong_answer_df.to_json(\"wrong_answers.json\")"
   ]
  },
  {
   "cell_type": "code",
   "execution_count": 7,
   "id": "11e4ed03",
   "metadata": {},
   "outputs": [],
   "source": [
    "our_output = pd.read_json(\"output/fireworks_ai__accounts__fireworks__models__qwq-32b/codeact/frames_test_set/fireworks_ai__accounts__fireworks__models__qwq-32b__codeact__frames_test_set__trial0.jsonl\",\n",
    "                          lines=True)\n",
    "our_output.to_csv(\n",
    "    \"output/fireworks_ai__accounts__fireworks__models__qwq-32b/codeact/frames_test_set/fireworks_ai__accounts__fireworks__models__qwq-32b__codeact__frames_test_set__trial0.csv\")"
   ]
  }
 ],
 "metadata": {
  "kernelspec": {
   "display_name": "base",
   "language": "python",
   "name": "python3"
  },
  "language_info": {
   "codemirror_mode": {
    "name": "ipython",
    "version": 3
   },
   "file_extension": ".py",
   "mimetype": "text/x-python",
   "name": "python",
   "nbconvert_exporter": "python",
   "pygments_lexer": "ipython3",
   "version": "3.12.9"
  }
 },
 "nbformat": 4,
 "nbformat_minor": 5
}
